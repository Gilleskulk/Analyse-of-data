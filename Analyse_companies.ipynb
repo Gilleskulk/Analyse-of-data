{
 "cells": [
  {
   "cell_type": "code",
   "execution_count": 2,
   "metadata": {},
   "outputs": [],
   "source": [
    "import pandas as pd \n",
    "import seaborn as sns \n",
    "import matplotlib.pyplot as plt"
   ]
  },
  {
   "cell_type": "code",
   "execution_count": 3,
   "metadata": {},
   "outputs": [
    {
     "data": {
      "text/html": [
       "<div>\n",
       "<style scoped>\n",
       "    .dataframe tbody tr th:only-of-type {\n",
       "        vertical-align: middle;\n",
       "    }\n",
       "\n",
       "    .dataframe tbody tr th {\n",
       "        vertical-align: top;\n",
       "    }\n",
       "\n",
       "    .dataframe thead th {\n",
       "        text-align: right;\n",
       "    }\n",
       "</style>\n",
       "<table border=\"1\" class=\"dataframe\">\n",
       "  <thead>\n",
       "    <tr style=\"text-align: right;\">\n",
       "      <th></th>\n",
       "      <th>Name</th>\n",
       "      <th>Symbol</th>\n",
       "      <th>dividend_yield_ttm</th>\n",
       "      <th>price (GBP)</th>\n",
       "      <th>country</th>\n",
       "    </tr>\n",
       "    <tr>\n",
       "      <th>Rank</th>\n",
       "      <th></th>\n",
       "      <th></th>\n",
       "      <th></th>\n",
       "      <th></th>\n",
       "      <th></th>\n",
       "    </tr>\n",
       "  </thead>\n",
       "  <tbody>\n",
       "    <tr>\n",
       "      <th>1</th>\n",
       "      <td>LianBio</td>\n",
       "      <td>LIAN</td>\n",
       "      <td>300940.0</td>\n",
       "      <td>0.243065</td>\n",
       "      <td>United States</td>\n",
       "    </tr>\n",
       "    <tr>\n",
       "      <th>2</th>\n",
       "      <td>Richter Gedeon</td>\n",
       "      <td>RIG2.F</td>\n",
       "      <td>150430.0</td>\n",
       "      <td>23.726825</td>\n",
       "      <td>Hungary</td>\n",
       "    </tr>\n",
       "    <tr>\n",
       "      <th>3</th>\n",
       "      <td>Delek Group</td>\n",
       "      <td>DLEKG.TA</td>\n",
       "      <td>117114.0</td>\n",
       "      <td>87.735884</td>\n",
       "      <td>Israel</td>\n",
       "    </tr>\n",
       "    <tr>\n",
       "      <th>4</th>\n",
       "      <td>LMP Automotive Holdings</td>\n",
       "      <td>LMPX</td>\n",
       "      <td>106250.0</td>\n",
       "      <td>0.121914</td>\n",
       "      <td>United States</td>\n",
       "    </tr>\n",
       "    <tr>\n",
       "      <th>5</th>\n",
       "      <td>MBIA</td>\n",
       "      <td>MBI</td>\n",
       "      <td>22346.4</td>\n",
       "      <td>2.727817</td>\n",
       "      <td>United States</td>\n",
       "    </tr>\n",
       "  </tbody>\n",
       "</table>\n",
       "</div>"
      ],
      "text/plain": [
       "                         Name    Symbol  dividend_yield_ttm  price (GBP)  \\\n",
       "Rank                                                                       \n",
       "1                     LianBio      LIAN            300940.0     0.243065   \n",
       "2              Richter Gedeon    RIG2.F            150430.0    23.726825   \n",
       "3                 Delek Group  DLEKG.TA            117114.0    87.735884   \n",
       "4     LMP Automotive Holdings      LMPX            106250.0     0.121914   \n",
       "5                        MBIA       MBI             22346.4     2.727817   \n",
       "\n",
       "            country  \n",
       "Rank                 \n",
       "1     United States  \n",
       "2           Hungary  \n",
       "3            Israel  \n",
       "4     United States  \n",
       "5     United States  "
      ]
     },
     "execution_count": 3,
     "metadata": {},
     "output_type": "execute_result"
    }
   ],
   "source": [
    "compani_dividend = r\"D:\\neu pc\\ForData\\Datasets\\Companies_ranked_by_Dividend_Yield.csv\"\n",
    "compani_dividend_data = pd.read_csv(compani_dividend, index_col=\"Rank\")\n",
    "compani_dividend_data.head()"
   ]
  },
  {
   "cell_type": "code",
   "execution_count": 4,
   "metadata": {},
   "outputs": [
    {
     "data": {
      "text/plain": [
       "(9912, 5)"
      ]
     },
     "execution_count": 4,
     "metadata": {},
     "output_type": "execute_result"
    }
   ],
   "source": [
    "compani_dividend_data.shape"
   ]
  },
  {
   "cell_type": "code",
   "execution_count": 5,
   "metadata": {},
   "outputs": [
    {
     "data": {
      "text/plain": [
       "United States     3710\n",
       "India              586\n",
       "Canada             471\n",
       "United Kingdom     411\n",
       "Germany            378\n",
       "                  ... \n",
       "Gibraltar            1\n",
       "Estonia              1\n",
       "USA                  1\n",
       "Lithuania            1\n",
       "Sudan                1\n",
       "Name: country, Length: 79, dtype: int64"
      ]
     },
     "execution_count": 5,
     "metadata": {},
     "output_type": "execute_result"
    }
   ],
   "source": [
    "compani_dividend_data.country.value_counts()"
   ]
  },
  {
   "cell_type": "code",
   "execution_count": 6,
   "metadata": {},
   "outputs": [
    {
     "data": {
      "text/html": [
       "<div>\n",
       "<style scoped>\n",
       "    .dataframe tbody tr th:only-of-type {\n",
       "        vertical-align: middle;\n",
       "    }\n",
       "\n",
       "    .dataframe tbody tr th {\n",
       "        vertical-align: top;\n",
       "    }\n",
       "\n",
       "    .dataframe thead th {\n",
       "        text-align: right;\n",
       "    }\n",
       "</style>\n",
       "<table border=\"1\" class=\"dataframe\">\n",
       "  <thead>\n",
       "    <tr style=\"text-align: right;\">\n",
       "      <th></th>\n",
       "      <th>Name</th>\n",
       "      <th>Symbol</th>\n",
       "      <th>earnings_ttm</th>\n",
       "      <th>price (GBP)</th>\n",
       "      <th>country</th>\n",
       "    </tr>\n",
       "    <tr>\n",
       "      <th>Rank</th>\n",
       "      <th></th>\n",
       "      <th></th>\n",
       "      <th></th>\n",
       "      <th></th>\n",
       "      <th></th>\n",
       "    </tr>\n",
       "  </thead>\n",
       "  <tbody>\n",
       "    <tr>\n",
       "      <th>1</th>\n",
       "      <td>Saudi Aramco</td>\n",
       "      <td>2222.SR</td>\n",
       "      <td>2.283780e+11</td>\n",
       "      <td>5.505405</td>\n",
       "      <td>Saudi Arabia</td>\n",
       "    </tr>\n",
       "    <tr>\n",
       "      <th>2</th>\n",
       "      <td>Apple</td>\n",
       "      <td>AAPL</td>\n",
       "      <td>1.216250e+11</td>\n",
       "      <td>176.734336</td>\n",
       "      <td>United States</td>\n",
       "    </tr>\n",
       "    <tr>\n",
       "      <th>3</th>\n",
       "      <td>Microsoft</td>\n",
       "      <td>MSFT</td>\n",
       "      <td>1.077870e+11</td>\n",
       "      <td>326.461762</td>\n",
       "      <td>United States</td>\n",
       "    </tr>\n",
       "    <tr>\n",
       "      <th>4</th>\n",
       "      <td>Alphabet (Google)</td>\n",
       "      <td>GOOG</td>\n",
       "      <td>1.018210e+11</td>\n",
       "      <td>126.279631</td>\n",
       "      <td>United States</td>\n",
       "    </tr>\n",
       "    <tr>\n",
       "      <th>5</th>\n",
       "      <td>Berkshire Hathaway</td>\n",
       "      <td>BRK-B</td>\n",
       "      <td>8.890400e+10</td>\n",
       "      <td>347.625201</td>\n",
       "      <td>United States</td>\n",
       "    </tr>\n",
       "  </tbody>\n",
       "</table>\n",
       "</div>"
      ],
      "text/plain": [
       "                    Name   Symbol  earnings_ttm  price (GBP)        country\n",
       "Rank                                                                       \n",
       "1           Saudi Aramco  2222.SR  2.283780e+11     5.505405   Saudi Arabia\n",
       "2                  Apple     AAPL  1.216250e+11   176.734336  United States\n",
       "3              Microsoft     MSFT  1.077870e+11   326.461762  United States\n",
       "4      Alphabet (Google)     GOOG  1.018210e+11   126.279631  United States\n",
       "5     Berkshire Hathaway    BRK-B  8.890400e+10   347.625201  United States"
      ]
     },
     "execution_count": 6,
     "metadata": {},
     "output_type": "execute_result"
    }
   ],
   "source": [
    "compani_earn = r\"D:\\neu pc\\ForData\\Datasets\\Companies_ranked_by_Earnings.csv\"\n",
    "compani_earn_data = pd.read_csv(compani_earn, index_col=\"Rank\")\n",
    "compani_earn_data.head()"
   ]
  },
  {
   "cell_type": "code",
   "execution_count": 7,
   "metadata": {},
   "outputs": [
    {
     "data": {
      "text/plain": [
       "(9912, 5)"
      ]
     },
     "execution_count": 7,
     "metadata": {},
     "output_type": "execute_result"
    }
   ],
   "source": [
    "compani_earn_data.shape"
   ]
  },
  {
   "cell_type": "code",
   "execution_count": 8,
   "metadata": {},
   "outputs": [
    {
     "data": {
      "text/html": [
       "<div>\n",
       "<style scoped>\n",
       "    .dataframe tbody tr th:only-of-type {\n",
       "        vertical-align: middle;\n",
       "    }\n",
       "\n",
       "    .dataframe tbody tr th {\n",
       "        vertical-align: top;\n",
       "    }\n",
       "\n",
       "    .dataframe thead th {\n",
       "        text-align: right;\n",
       "    }\n",
       "</style>\n",
       "<table border=\"1\" class=\"dataframe\">\n",
       "  <thead>\n",
       "    <tr style=\"text-align: right;\">\n",
       "      <th></th>\n",
       "      <th>Name</th>\n",
       "      <th>Symbol</th>\n",
       "      <th>marketcap</th>\n",
       "      <th>price (GBP)</th>\n",
       "      <th>country</th>\n",
       "    </tr>\n",
       "    <tr>\n",
       "      <th>Rank</th>\n",
       "      <th></th>\n",
       "      <th></th>\n",
       "      <th></th>\n",
       "      <th></th>\n",
       "      <th></th>\n",
       "    </tr>\n",
       "  </thead>\n",
       "  <tbody>\n",
       "    <tr>\n",
       "      <th>1</th>\n",
       "      <td>Apple</td>\n",
       "      <td>AAPL</td>\n",
       "      <td>2.689903e+12</td>\n",
       "      <td>176.919492</td>\n",
       "      <td>United States</td>\n",
       "    </tr>\n",
       "    <tr>\n",
       "      <th>2</th>\n",
       "      <td>Microsoft</td>\n",
       "      <td>MSFT</td>\n",
       "      <td>2.427170e+12</td>\n",
       "      <td>326.537958</td>\n",
       "      <td>United States</td>\n",
       "    </tr>\n",
       "    <tr>\n",
       "      <th>3</th>\n",
       "      <td>NVIDIA</td>\n",
       "      <td>NVDA</td>\n",
       "      <td>2.259353e+12</td>\n",
       "      <td>92.105725</td>\n",
       "      <td>United States</td>\n",
       "    </tr>\n",
       "    <tr>\n",
       "      <th>4</th>\n",
       "      <td>Alphabet (Google)</td>\n",
       "      <td>GOOG</td>\n",
       "      <td>1.549815e+12</td>\n",
       "      <td>126.458691</td>\n",
       "      <td>United States</td>\n",
       "    </tr>\n",
       "    <tr>\n",
       "      <th>5</th>\n",
       "      <td>Amazon</td>\n",
       "      <td>AMZN</td>\n",
       "      <td>1.506038e+12</td>\n",
       "      <td>143.492307</td>\n",
       "      <td>United States</td>\n",
       "    </tr>\n",
       "  </tbody>\n",
       "</table>\n",
       "</div>"
      ],
      "text/plain": [
       "                   Name Symbol     marketcap  price (GBP)        country\n",
       "Rank                                                                    \n",
       "1                 Apple   AAPL  2.689903e+12   176.919492  United States\n",
       "2             Microsoft   MSFT  2.427170e+12   326.537958  United States\n",
       "3                NVIDIA   NVDA  2.259353e+12    92.105725  United States\n",
       "4     Alphabet (Google)   GOOG  1.549815e+12   126.458691  United States\n",
       "5                Amazon   AMZN  1.506038e+12   143.492307  United States"
      ]
     },
     "execution_count": 8,
     "metadata": {},
     "output_type": "execute_result"
    }
   ],
   "source": [
    "compani_market = r\"D:\\neu pc\\ForData\\Datasets\\Companies_ranked_by_Market_Cap.csv\"\n",
    "compani_market_data = pd.read_csv(compani_market, index_col=\"Rank\")\n",
    "compani_market_data.head()"
   ]
  },
  {
   "cell_type": "code",
   "execution_count": 9,
   "metadata": {},
   "outputs": [
    {
     "data": {
      "text/html": [
       "<div>\n",
       "<style scoped>\n",
       "    .dataframe tbody tr th:only-of-type {\n",
       "        vertical-align: middle;\n",
       "    }\n",
       "\n",
       "    .dataframe tbody tr th {\n",
       "        vertical-align: top;\n",
       "    }\n",
       "\n",
       "    .dataframe thead th {\n",
       "        text-align: right;\n",
       "    }\n",
       "</style>\n",
       "<table border=\"1\" class=\"dataframe\">\n",
       "  <thead>\n",
       "    <tr style=\"text-align: right;\">\n",
       "      <th></th>\n",
       "      <th>Name</th>\n",
       "      <th>Symbol</th>\n",
       "      <th>pe_ratio_ttm</th>\n",
       "      <th>price (GBP)</th>\n",
       "      <th>country</th>\n",
       "    </tr>\n",
       "    <tr>\n",
       "      <th>Rank</th>\n",
       "      <th></th>\n",
       "      <th></th>\n",
       "      <th></th>\n",
       "      <th></th>\n",
       "      <th></th>\n",
       "    </tr>\n",
       "  </thead>\n",
       "  <tbody>\n",
       "    <tr>\n",
       "      <th>1</th>\n",
       "      <td>Imperial Petroleum</td>\n",
       "      <td>IMPP</td>\n",
       "      <td>0.109943</td>\n",
       "      <td>3.108797</td>\n",
       "      <td>Greece</td>\n",
       "    </tr>\n",
       "    <tr>\n",
       "      <th>2</th>\n",
       "      <td>Vertex Energy</td>\n",
       "      <td>VTNR</td>\n",
       "      <td>0.188889</td>\n",
       "      <td>0.092197</td>\n",
       "      <td>United States</td>\n",
       "    </tr>\n",
       "    <tr>\n",
       "      <th>3</th>\n",
       "      <td>Spin Master</td>\n",
       "      <td>TOY.TO</td>\n",
       "      <td>0.224758</td>\n",
       "      <td>17.414443</td>\n",
       "      <td>Canada</td>\n",
       "    </tr>\n",
       "    <tr>\n",
       "      <th>4</th>\n",
       "      <td>Performance Shipping</td>\n",
       "      <td>PSHG</td>\n",
       "      <td>0.225293</td>\n",
       "      <td>1.467916</td>\n",
       "      <td>Greece</td>\n",
       "    </tr>\n",
       "    <tr>\n",
       "      <th>5</th>\n",
       "      <td>TherapeuticsMD</td>\n",
       "      <td>TXMD</td>\n",
       "      <td>0.340956</td>\n",
       "      <td>1.280093</td>\n",
       "      <td>United States</td>\n",
       "    </tr>\n",
       "  </tbody>\n",
       "</table>\n",
       "</div>"
      ],
      "text/plain": [
       "                      Name  Symbol  pe_ratio_ttm  price (GBP)        country\n",
       "Rank                                                                        \n",
       "1       Imperial Petroleum    IMPP      0.109943     3.108797         Greece\n",
       "2            Vertex Energy    VTNR      0.188889     0.092197  United States\n",
       "3              Spin Master  TOY.TO      0.224758    17.414443         Canada\n",
       "4     Performance Shipping    PSHG      0.225293     1.467916         Greece\n",
       "5           TherapeuticsMD    TXMD      0.340956     1.280093  United States"
      ]
     },
     "execution_count": 9,
     "metadata": {},
     "output_type": "execute_result"
    }
   ],
   "source": [
    "compani_ratio = r\"D:\\neu pc\\ForData\\Datasets\\Companies_ranked_by_P_E_ratio.csv\"\n",
    "compani_ratio_data = pd.read_csv(compani_ratio, index_col=\"Rank\")\n",
    "compani_ratio_data.head()"
   ]
  },
  {
   "cell_type": "code",
   "execution_count": 10,
   "metadata": {},
   "outputs": [
    {
     "data": {
      "text/html": [
       "<div>\n",
       "<style scoped>\n",
       "    .dataframe tbody tr th:only-of-type {\n",
       "        vertical-align: middle;\n",
       "    }\n",
       "\n",
       "    .dataframe tbody tr th {\n",
       "        vertical-align: top;\n",
       "    }\n",
       "\n",
       "    .dataframe thead th {\n",
       "        text-align: right;\n",
       "    }\n",
       "</style>\n",
       "<table border=\"1\" class=\"dataframe\">\n",
       "  <thead>\n",
       "    <tr style=\"text-align: right;\">\n",
       "      <th></th>\n",
       "      <th>Name</th>\n",
       "      <th>Symbol</th>\n",
       "      <th>revenue_ttm</th>\n",
       "      <th>price (GBP)</th>\n",
       "      <th>country</th>\n",
       "    </tr>\n",
       "    <tr>\n",
       "      <th>Rank</th>\n",
       "      <th></th>\n",
       "      <th></th>\n",
       "      <th></th>\n",
       "      <th></th>\n",
       "      <th></th>\n",
       "    </tr>\n",
       "  </thead>\n",
       "  <tbody>\n",
       "    <tr>\n",
       "      <th>1</th>\n",
       "      <td>Walmart</td>\n",
       "      <td>WMT</td>\n",
       "      <td>665035000000</td>\n",
       "      <td>61.029186</td>\n",
       "      <td>United States</td>\n",
       "    </tr>\n",
       "    <tr>\n",
       "      <th>2</th>\n",
       "      <td>Amazon</td>\n",
       "      <td>AMZN</td>\n",
       "      <td>604334000000</td>\n",
       "      <td>143.454209</td>\n",
       "      <td>United States</td>\n",
       "    </tr>\n",
       "    <tr>\n",
       "      <th>3</th>\n",
       "      <td>Saudi Aramco</td>\n",
       "      <td>2222.SR</td>\n",
       "      <td>495354806850</td>\n",
       "      <td>5.505405</td>\n",
       "      <td>Saudi Arabia</td>\n",
       "    </tr>\n",
       "    <tr>\n",
       "      <th>4</th>\n",
       "      <td>Sinopec</td>\n",
       "      <td>600028.SS</td>\n",
       "      <td>435696880608</td>\n",
       "      <td>0.748295</td>\n",
       "      <td>China</td>\n",
       "    </tr>\n",
       "    <tr>\n",
       "      <th>5</th>\n",
       "      <td>PetroChina</td>\n",
       "      <td>601857.SS</td>\n",
       "      <td>429671599508</td>\n",
       "      <td>0.969769</td>\n",
       "      <td>China</td>\n",
       "    </tr>\n",
       "  </tbody>\n",
       "</table>\n",
       "</div>"
      ],
      "text/plain": [
       "              Name     Symbol   revenue_ttm  price (GBP)        country\n",
       "Rank                                                                   \n",
       "1          Walmart        WMT  665035000000    61.029186  United States\n",
       "2           Amazon       AMZN  604334000000   143.454209  United States\n",
       "3     Saudi Aramco    2222.SR  495354806850     5.505405   Saudi Arabia\n",
       "4          Sinopec  600028.SS  435696880608     0.748295          China\n",
       "5       PetroChina  601857.SS  429671599508     0.969769          China"
      ]
     },
     "execution_count": 10,
     "metadata": {},
     "output_type": "execute_result"
    }
   ],
   "source": [
    "compani_revenue = r\"D:\\neu pc\\ForData\\Datasets\\Companies_ranked_by_Revenue.csv\"\n",
    "compani_revenue_data = pd.read_csv(compani_revenue, index_col=\"Rank\")\n",
    "compani_revenue_data.head()"
   ]
  },
  {
   "cell_type": "code",
   "execution_count": 11,
   "metadata": {},
   "outputs": [
    {
     "data": {
      "text/plain": [
       "0.000      5307\n",
       "329.870       2\n",
       "624.482       2\n",
       "293.343       2\n",
       "456.140       2\n",
       "           ... \n",
       "366.670       1\n",
       "366.640       1\n",
       "366.518       1\n",
       "366.512       1\n",
       "256.589       1\n",
       "Name: dividend_yield_ttm, Length: 4587, dtype: int64"
      ]
     },
     "execution_count": 11,
     "metadata": {},
     "output_type": "execute_result"
    }
   ],
   "source": [
    "compani_dividend_data[\"dividend_yield_ttm\"].value_counts()"
   ]
  },
  {
   "cell_type": "code",
   "execution_count": 12,
   "metadata": {},
   "outputs": [
    {
     "data": {
      "text/plain": [
       " 0.000000e+00    0.024011\n",
       " 2.370000e+08    0.000303\n",
       " 1.156000e+09    0.000303\n",
       " 1.868000e+09    0.000202\n",
       " 1.128990e+08    0.000202\n",
       "                   ...   \n",
       " 2.028460e+08    0.000101\n",
       " 2.027830e+08    0.000101\n",
       " 2.027440e+08    0.000101\n",
       " 2.026950e+08    0.000101\n",
       "-1.730700e+10    0.000101\n",
       "Name: earnings_ttm, Length: 9614, dtype: float64"
      ]
     },
     "execution_count": 12,
     "metadata": {},
     "output_type": "execute_result"
    }
   ],
   "source": [
    "compani_earn_data[\"earnings_ttm\"].value_counts(normalize=True)"
   ]
  },
  {
   "cell_type": "code",
   "execution_count": 13,
   "metadata": {},
   "outputs": [
    {
     "data": {
      "text/plain": [
       "0.000000e+00    21\n",
       "4.749880e+07     2\n",
       "3.798044e+08     1\n",
       "3.798261e+08     1\n",
       "3.822903e+08     1\n",
       "                ..\n",
       "2.750368e+09     1\n",
       "2.749984e+09     1\n",
       "2.748142e+09     1\n",
       "2.747886e+09     1\n",
       "1.076192e+09     1\n",
       "Name: marketcap, Length: 9891, dtype: int64"
      ]
     },
     "execution_count": 13,
     "metadata": {},
     "output_type": "execute_result"
    }
   ],
   "source": [
    "compani_market_data[\"marketcap\"].value_counts()"
   ]
  },
  {
   "cell_type": "code",
   "execution_count": 14,
   "metadata": {},
   "outputs": [
    {
     "data": {
      "text/plain": [
       " 0.0000     788\n",
       "-3.0000       3\n",
       "-4.0000       3\n",
       " 22.5000      3\n",
       " 15.5726      2\n",
       "           ... \n",
       " 24.8249      1\n",
       " 24.8089      1\n",
       " 24.8086      1\n",
       " 24.7991      1\n",
       "-12.4105      1\n",
       "Name: pe_ratio_ttm, Length: 9078, dtype: int64"
      ]
     },
     "execution_count": 14,
     "metadata": {},
     "output_type": "execute_result"
    }
   ],
   "source": [
    "compani_ratio_data[\"pe_ratio_ttm\"].value_counts()"
   ]
  },
  {
   "cell_type": "code",
   "execution_count": 15,
   "metadata": {},
   "outputs": [
    {
     "data": {
      "text/plain": [
       " 0              599\n",
       " 8899000000       3\n",
       " 1815000000       2\n",
       " 1069109389       2\n",
       " 9955000000       2\n",
       "               ... \n",
       " 2061825000       1\n",
       " 2060908000       1\n",
       " 2060097553       1\n",
       " 2059374000       1\n",
       "-39227760552      1\n",
       "Name: revenue_ttm, Length: 9293, dtype: int64"
      ]
     },
     "execution_count": 15,
     "metadata": {},
     "output_type": "execute_result"
    }
   ],
   "source": [
    "compani_revenue_data[\"revenue_ttm\"].value_counts()"
   ]
  },
  {
   "cell_type": "markdown",
   "metadata": {},
   "source": [
    "le dataset est donc une représentation de 79 pays..."
   ]
  },
  {
   "cell_type": "code",
   "execution_count": 16,
   "metadata": {},
   "outputs": [
    {
     "name": "stderr",
     "output_type": "stream",
     "text": [
      "C:\\Users\\gille\\AppData\\Local\\Temp\\ipykernel_23516\\2123293979.py:1: FutureWarning: The default value of numeric_only in DataFrameGroupBy.sum is deprecated. In a future version, numeric_only will default to False. Either specify numeric_only or select only columns which should be valid for the function.\n",
      "  compani_dividend_data.groupby(\"country\").sum()\n"
     ]
    },
    {
     "data": {
      "text/html": [
       "<div>\n",
       "<style scoped>\n",
       "    .dataframe tbody tr th:only-of-type {\n",
       "        vertical-align: middle;\n",
       "    }\n",
       "\n",
       "    .dataframe tbody tr th {\n",
       "        vertical-align: top;\n",
       "    }\n",
       "\n",
       "    .dataframe thead th {\n",
       "        text-align: right;\n",
       "    }\n",
       "</style>\n",
       "<table border=\"1\" class=\"dataframe\">\n",
       "  <thead>\n",
       "    <tr style=\"text-align: right;\">\n",
       "      <th></th>\n",
       "      <th>dividend_yield_ttm</th>\n",
       "      <th>price (GBP)</th>\n",
       "    </tr>\n",
       "    <tr>\n",
       "      <th>country</th>\n",
       "      <th></th>\n",
       "      <th></th>\n",
       "    </tr>\n",
       "  </thead>\n",
       "  <tbody>\n",
       "    <tr>\n",
       "      <th>Argentina</th>\n",
       "      <td>3481.065730</td>\n",
       "      <td>1801.716251</td>\n",
       "    </tr>\n",
       "    <tr>\n",
       "      <th>Australia</th>\n",
       "      <td>32619.298000</td>\n",
       "      <td>2248.084860</td>\n",
       "    </tr>\n",
       "    <tr>\n",
       "      <th>Austria</th>\n",
       "      <td>15327.453300</td>\n",
       "      <td>1655.066279</td>\n",
       "    </tr>\n",
       "    <tr>\n",
       "      <th>Bahamas</th>\n",
       "      <td>0.000000</td>\n",
       "      <td>12.739971</td>\n",
       "    </tr>\n",
       "    <tr>\n",
       "      <th>Bahrain</th>\n",
       "      <td>23799.218000</td>\n",
       "      <td>19.625807</td>\n",
       "    </tr>\n",
       "    <tr>\n",
       "      <th>...</th>\n",
       "      <td>...</td>\n",
       "      <td>...</td>\n",
       "    </tr>\n",
       "    <tr>\n",
       "      <th>United Arab Emirates</th>\n",
       "      <td>12068.168000</td>\n",
       "      <td>327.958468</td>\n",
       "    </tr>\n",
       "    <tr>\n",
       "      <th>United Kingdom</th>\n",
       "      <td>67116.379300</td>\n",
       "      <td>5378.912063</td>\n",
       "    </tr>\n",
       "    <tr>\n",
       "      <th>United States</th>\n",
       "      <td>996207.651325</td>\n",
       "      <td>187891.103975</td>\n",
       "    </tr>\n",
       "    <tr>\n",
       "      <th>Uruguay</th>\n",
       "      <td>237.020000</td>\n",
       "      <td>12.899983</td>\n",
       "    </tr>\n",
       "    <tr>\n",
       "      <th>Vietnam</th>\n",
       "      <td>0.000000</td>\n",
       "      <td>52.970752</td>\n",
       "    </tr>\n",
       "  </tbody>\n",
       "</table>\n",
       "<p>79 rows × 2 columns</p>\n",
       "</div>"
      ],
      "text/plain": [
       "                      dividend_yield_ttm    price (GBP)\n",
       "country                                                \n",
       "Argentina                    3481.065730    1801.716251\n",
       "Australia                   32619.298000    2248.084860\n",
       "Austria                     15327.453300    1655.066279\n",
       "Bahamas                         0.000000      12.739971\n",
       "Bahrain                     23799.218000      19.625807\n",
       "...                                  ...            ...\n",
       "United Arab Emirates        12068.168000     327.958468\n",
       "United Kingdom              67116.379300    5378.912063\n",
       "United States              996207.651325  187891.103975\n",
       "Uruguay                       237.020000      12.899983\n",
       "Vietnam                         0.000000      52.970752\n",
       "\n",
       "[79 rows x 2 columns]"
      ]
     },
     "execution_count": 16,
     "metadata": {},
     "output_type": "execute_result"
    }
   ],
   "source": [
    "compani_dividend_data.groupby(\"country\").sum()"
   ]
  },
  {
   "cell_type": "code",
   "execution_count": 17,
   "metadata": {},
   "outputs": [
    {
     "name": "stderr",
     "output_type": "stream",
     "text": [
      "C:\\Users\\gille\\AppData\\Local\\Temp\\ipykernel_23516\\3679007123.py:1: FutureWarning: The default value of numeric_only in DataFrameGroupBy.sum is deprecated. In a future version, numeric_only will default to False. Either specify numeric_only or select only columns which should be valid for the function.\n",
      "  compani_revenue_data.groupby(\"country\").sum()\n"
     ]
    },
    {
     "data": {
      "text/html": [
       "<div>\n",
       "<style scoped>\n",
       "    .dataframe tbody tr th:only-of-type {\n",
       "        vertical-align: middle;\n",
       "    }\n",
       "\n",
       "    .dataframe tbody tr th {\n",
       "        vertical-align: top;\n",
       "    }\n",
       "\n",
       "    .dataframe thead th {\n",
       "        text-align: right;\n",
       "    }\n",
       "</style>\n",
       "<table border=\"1\" class=\"dataframe\">\n",
       "  <thead>\n",
       "    <tr style=\"text-align: right;\">\n",
       "      <th></th>\n",
       "      <th>revenue_ttm</th>\n",
       "      <th>price (GBP)</th>\n",
       "    </tr>\n",
       "    <tr>\n",
       "      <th>country</th>\n",
       "      <th></th>\n",
       "      <th></th>\n",
       "    </tr>\n",
       "  </thead>\n",
       "  <tbody>\n",
       "    <tr>\n",
       "      <th>Argentina</th>\n",
       "      <td>64666622103</td>\n",
       "      <td>1801.716251</td>\n",
       "    </tr>\n",
       "    <tr>\n",
       "      <th>Australia</th>\n",
       "      <td>655105652909</td>\n",
       "      <td>2248.084860</td>\n",
       "    </tr>\n",
       "    <tr>\n",
       "      <th>Austria</th>\n",
       "      <td>201579927856</td>\n",
       "      <td>1655.066279</td>\n",
       "    </tr>\n",
       "    <tr>\n",
       "      <th>Bahamas</th>\n",
       "      <td>847194000</td>\n",
       "      <td>12.739971</td>\n",
       "    </tr>\n",
       "    <tr>\n",
       "      <th>Bahrain</th>\n",
       "      <td>11326918702</td>\n",
       "      <td>19.625807</td>\n",
       "    </tr>\n",
       "    <tr>\n",
       "      <th>...</th>\n",
       "      <td>...</td>\n",
       "      <td>...</td>\n",
       "    </tr>\n",
       "    <tr>\n",
       "      <th>United Arab Emirates</th>\n",
       "      <td>65810689037</td>\n",
       "      <td>327.958468</td>\n",
       "    </tr>\n",
       "    <tr>\n",
       "      <th>United Kingdom</th>\n",
       "      <td>2385036863641</td>\n",
       "      <td>5379.014927</td>\n",
       "    </tr>\n",
       "    <tr>\n",
       "      <th>United States</th>\n",
       "      <td>21777569617007</td>\n",
       "      <td>187892.361057</td>\n",
       "    </tr>\n",
       "    <tr>\n",
       "      <th>Uruguay</th>\n",
       "      <td>5200457000</td>\n",
       "      <td>12.899983</td>\n",
       "    </tr>\n",
       "    <tr>\n",
       "      <th>Vietnam</th>\n",
       "      <td>69024025803</td>\n",
       "      <td>52.970752</td>\n",
       "    </tr>\n",
       "  </tbody>\n",
       "</table>\n",
       "<p>79 rows × 2 columns</p>\n",
       "</div>"
      ],
      "text/plain": [
       "                         revenue_ttm    price (GBP)\n",
       "country                                            \n",
       "Argentina                64666622103    1801.716251\n",
       "Australia               655105652909    2248.084860\n",
       "Austria                 201579927856    1655.066279\n",
       "Bahamas                    847194000      12.739971\n",
       "Bahrain                  11326918702      19.625807\n",
       "...                              ...            ...\n",
       "United Arab Emirates     65810689037     327.958468\n",
       "United Kingdom         2385036863641    5379.014927\n",
       "United States         21777569617007  187892.361057\n",
       "Uruguay                   5200457000      12.899983\n",
       "Vietnam                  69024025803      52.970752\n",
       "\n",
       "[79 rows x 2 columns]"
      ]
     },
     "execution_count": 17,
     "metadata": {},
     "output_type": "execute_result"
    }
   ],
   "source": [
    "compani_revenue_data.groupby(\"country\").sum()"
   ]
  },
  {
   "cell_type": "code",
   "execution_count": 18,
   "metadata": {},
   "outputs": [
    {
     "name": "stderr",
     "output_type": "stream",
     "text": [
      "C:\\Users\\gille\\AppData\\Local\\Temp\\ipykernel_23516\\1084082634.py:1: FutureWarning: The default value of numeric_only in DataFrameGroupBy.sum is deprecated. In a future version, numeric_only will default to False. Either specify numeric_only or select only columns which should be valid for the function.\n",
      "  compani_earn_data.groupby(\"country\").sum()\n"
     ]
    },
    {
     "data": {
      "text/html": [
       "<div>\n",
       "<style scoped>\n",
       "    .dataframe tbody tr th:only-of-type {\n",
       "        vertical-align: middle;\n",
       "    }\n",
       "\n",
       "    .dataframe tbody tr th {\n",
       "        vertical-align: top;\n",
       "    }\n",
       "\n",
       "    .dataframe thead th {\n",
       "        text-align: right;\n",
       "    }\n",
       "</style>\n",
       "<table border=\"1\" class=\"dataframe\">\n",
       "  <thead>\n",
       "    <tr style=\"text-align: right;\">\n",
       "      <th></th>\n",
       "      <th>earnings_ttm</th>\n",
       "      <th>price (GBP)</th>\n",
       "    </tr>\n",
       "    <tr>\n",
       "      <th>country</th>\n",
       "      <th></th>\n",
       "      <th></th>\n",
       "    </tr>\n",
       "  </thead>\n",
       "  <tbody>\n",
       "    <tr>\n",
       "      <th>Argentina</th>\n",
       "      <td>9.844205e+09</td>\n",
       "      <td>1801.716251</td>\n",
       "    </tr>\n",
       "    <tr>\n",
       "      <th>Australia</th>\n",
       "      <td>1.134531e+11</td>\n",
       "      <td>2248.084860</td>\n",
       "    </tr>\n",
       "    <tr>\n",
       "      <th>Austria</th>\n",
       "      <td>2.642092e+10</td>\n",
       "      <td>1655.066279</td>\n",
       "    </tr>\n",
       "    <tr>\n",
       "      <th>Bahamas</th>\n",
       "      <td>6.772800e+07</td>\n",
       "      <td>12.739971</td>\n",
       "    </tr>\n",
       "    <tr>\n",
       "      <th>Bahrain</th>\n",
       "      <td>3.079841e+09</td>\n",
       "      <td>19.625807</td>\n",
       "    </tr>\n",
       "    <tr>\n",
       "      <th>...</th>\n",
       "      <td>...</td>\n",
       "      <td>...</td>\n",
       "    </tr>\n",
       "    <tr>\n",
       "      <th>United Arab Emirates</th>\n",
       "      <td>3.180444e+10</td>\n",
       "      <td>327.958468</td>\n",
       "    </tr>\n",
       "    <tr>\n",
       "      <th>United Kingdom</th>\n",
       "      <td>2.487062e+11</td>\n",
       "      <td>5378.995878</td>\n",
       "    </tr>\n",
       "    <tr>\n",
       "      <th>United States</th>\n",
       "      <td>2.590290e+12</td>\n",
       "      <td>187893.305887</td>\n",
       "    </tr>\n",
       "    <tr>\n",
       "      <th>Uruguay</th>\n",
       "      <td>4.111180e+08</td>\n",
       "      <td>12.899983</td>\n",
       "    </tr>\n",
       "    <tr>\n",
       "      <th>Vietnam</th>\n",
       "      <td>9.216623e+09</td>\n",
       "      <td>52.970752</td>\n",
       "    </tr>\n",
       "  </tbody>\n",
       "</table>\n",
       "<p>79 rows × 2 columns</p>\n",
       "</div>"
      ],
      "text/plain": [
       "                      earnings_ttm    price (GBP)\n",
       "country                                          \n",
       "Argentina             9.844205e+09    1801.716251\n",
       "Australia             1.134531e+11    2248.084860\n",
       "Austria               2.642092e+10    1655.066279\n",
       "Bahamas               6.772800e+07      12.739971\n",
       "Bahrain               3.079841e+09      19.625807\n",
       "...                            ...            ...\n",
       "United Arab Emirates  3.180444e+10     327.958468\n",
       "United Kingdom        2.487062e+11    5378.995878\n",
       "United States         2.590290e+12  187893.305887\n",
       "Uruguay               4.111180e+08      12.899983\n",
       "Vietnam               9.216623e+09      52.970752\n",
       "\n",
       "[79 rows x 2 columns]"
      ]
     },
     "execution_count": 18,
     "metadata": {},
     "output_type": "execute_result"
    }
   ],
   "source": [
    "compani_earn_data.groupby(\"country\").sum()"
   ]
  },
  {
   "cell_type": "code",
   "execution_count": 19,
   "metadata": {},
   "outputs": [
    {
     "data": {
      "text/plain": [
       "array(['Saudi Arabia', 'United States', 'China', 'Japan', 'Taiwan',\n",
       "       'France', 'Norway', 'United Kingdom', 'Australia', 'Switzerland',\n",
       "       'Germany', 'Canada', 'South Korea', 'Spain', 'Brazil', 'Sweden',\n",
       "       'Denmark', 'Italy', 'Turkey', 'India', 'Netherlands', 'Hong Kong',\n",
       "       'Belgium', 'Ireland', 'Singapore', 'Thailand',\n",
       "       'United Arab Emirates', 'Colombia', 'Finland', 'Mexico', 'Qatar',\n",
       "       'Austria', 'Indonesia', 'Bermuda', 'Poland', 'Czech Republic',\n",
       "       'Israel', 'South Africa', 'Hungary', 'Luxembourg', 'Portugal',\n",
       "       'Kazakhstan', 'Malaysia', 'Philippines', 'Kuwait', 'Argentina',\n",
       "       'Chile', 'Greece', 'Russia', 'Egypt', nan, 'Romania', 'Vietnam',\n",
       "       'Nigeria', 'New Zealand', 'Monaco', 'Panama', 'Bahrain',\n",
       "       'Guernsey', 'Cambodia', 'Cyprus', 'Cayman Islands', 'Jersey',\n",
       "       'Peru', 'Uruguay', 'Iceland', 'Isle of Man', 'Jordan', 'Malta',\n",
       "       'Estonia', 'Lithuania', 'Bahamas', 'USA', 'Oman', 'Sudan',\n",
       "       'Pakistan', 'Gibraltar', 'British Virgin Islands', 'Costa Rica',\n",
       "       'Macau'], dtype=object)"
      ]
     },
     "execution_count": 19,
     "metadata": {},
     "output_type": "execute_result"
    }
   ],
   "source": [
    "compani_earn_data[\"country\"].unique()"
   ]
  },
  {
   "cell_type": "code",
   "execution_count": 20,
   "metadata": {},
   "outputs": [
    {
     "data": {
      "text/plain": [
       "Name                  0\n",
       "Symbol                1\n",
       "dividend_yield_ttm    0\n",
       "price (GBP)           0\n",
       "country               2\n",
       "dtype: int64"
      ]
     },
     "execution_count": 20,
     "metadata": {},
     "output_type": "execute_result"
    }
   ],
   "source": [
    "compani_dividend_data.isna().sum()"
   ]
  },
  {
   "cell_type": "code",
   "execution_count": 21,
   "metadata": {},
   "outputs": [
    {
     "data": {
      "text/plain": [
       "Name            0\n",
       "Symbol          1\n",
       "earnings_ttm    0\n",
       "price (GBP)     0\n",
       "country         2\n",
       "dtype: int64"
      ]
     },
     "execution_count": 21,
     "metadata": {},
     "output_type": "execute_result"
    }
   ],
   "source": [
    "compani_earn_data.isna().sum()"
   ]
  },
  {
   "cell_type": "code",
   "execution_count": 22,
   "metadata": {},
   "outputs": [
    {
     "data": {
      "text/plain": [
       "array(['Saudi Arabia', 'United States', 'China', 'Japan', 'Taiwan',\n",
       "       'France', 'Norway', 'United Kingdom', 'Australia', 'Switzerland',\n",
       "       'Germany', 'Canada', 'South Korea', 'Spain', 'Brazil', 'Sweden',\n",
       "       'Denmark', 'Italy', 'Turkey', 'India', 'Netherlands', 'Hong Kong',\n",
       "       'Belgium', 'Ireland', 'Singapore', 'Thailand',\n",
       "       'United Arab Emirates', 'Colombia', 'Finland', 'Mexico', 'Qatar',\n",
       "       'Austria', 'Indonesia', 'Bermuda', 'Poland', 'Czech Republic',\n",
       "       'Israel', 'South Africa', 'Hungary', 'Luxembourg', 'Portugal',\n",
       "       'Kazakhstan', 'Malaysia', 'Philippines', 'Kuwait', 'Argentina',\n",
       "       'Chile', 'Greece', 'Russia', 'Egypt', nan, 'Romania', 'Vietnam',\n",
       "       'Nigeria', 'New Zealand', 'Monaco', 'Panama', 'Bahrain',\n",
       "       'Guernsey', 'Cambodia', 'Cyprus', 'Cayman Islands', 'Jersey',\n",
       "       'Peru', 'Uruguay', 'Iceland', 'Isle of Man', 'Jordan', 'Malta',\n",
       "       'Estonia', 'Lithuania', 'Bahamas', 'USA', 'Oman', 'Sudan',\n",
       "       'Pakistan', 'Gibraltar', 'British Virgin Islands', 'Costa Rica',\n",
       "       'Macau'], dtype=object)"
      ]
     },
     "execution_count": 22,
     "metadata": {},
     "output_type": "execute_result"
    }
   ],
   "source": [
    "compani_earn_data[\"country\"].unique()"
   ]
  },
  {
   "cell_type": "code",
   "execution_count": 23,
   "metadata": {},
   "outputs": [
    {
     "name": "stderr",
     "output_type": "stream",
     "text": [
      "C:\\Users\\gille\\AppData\\Local\\Temp\\ipykernel_23516\\1749168713.py:1: FutureWarning: The default value of numeric_only in DataFrame.corr is deprecated. In a future version, it will default to False. Select only valid columns or specify the value of numeric_only to silence this warning.\n",
      "  compani_earn_data.corr()\n"
     ]
    },
    {
     "data": {
      "text/html": [
       "<div>\n",
       "<style scoped>\n",
       "    .dataframe tbody tr th:only-of-type {\n",
       "        vertical-align: middle;\n",
       "    }\n",
       "\n",
       "    .dataframe tbody tr th {\n",
       "        vertical-align: top;\n",
       "    }\n",
       "\n",
       "    .dataframe thead th {\n",
       "        text-align: right;\n",
       "    }\n",
       "</style>\n",
       "<table border=\"1\" class=\"dataframe\">\n",
       "  <thead>\n",
       "    <tr style=\"text-align: right;\">\n",
       "      <th></th>\n",
       "      <th>earnings_ttm</th>\n",
       "      <th>price (GBP)</th>\n",
       "    </tr>\n",
       "  </thead>\n",
       "  <tbody>\n",
       "    <tr>\n",
       "      <th>earnings_ttm</th>\n",
       "      <td>1.000000</td>\n",
       "      <td>0.028706</td>\n",
       "    </tr>\n",
       "    <tr>\n",
       "      <th>price (GBP)</th>\n",
       "      <td>0.028706</td>\n",
       "      <td>1.000000</td>\n",
       "    </tr>\n",
       "  </tbody>\n",
       "</table>\n",
       "</div>"
      ],
      "text/plain": [
       "              earnings_ttm  price (GBP)\n",
       "earnings_ttm      1.000000     0.028706\n",
       "price (GBP)       0.028706     1.000000"
      ]
     },
     "execution_count": 23,
     "metadata": {},
     "output_type": "execute_result"
    }
   ],
   "source": [
    "compani_earn_data.corr()"
   ]
  },
  {
   "cell_type": "code",
   "execution_count": 24,
   "metadata": {},
   "outputs": [
    {
     "name": "stderr",
     "output_type": "stream",
     "text": [
      "C:\\Users\\gille\\AppData\\Local\\Temp\\ipykernel_23516\\2318165833.py:1: FutureWarning: The default value of numeric_only in DataFrame.corr is deprecated. In a future version, it will default to False. Select only valid columns or specify the value of numeric_only to silence this warning.\n",
      "  compani_dividend_data.corr()\n"
     ]
    },
    {
     "data": {
      "text/html": [
       "<div>\n",
       "<style scoped>\n",
       "    .dataframe tbody tr th:only-of-type {\n",
       "        vertical-align: middle;\n",
       "    }\n",
       "\n",
       "    .dataframe tbody tr th {\n",
       "        vertical-align: top;\n",
       "    }\n",
       "\n",
       "    .dataframe thead th {\n",
       "        text-align: right;\n",
       "    }\n",
       "</style>\n",
       "<table border=\"1\" class=\"dataframe\">\n",
       "  <thead>\n",
       "    <tr style=\"text-align: right;\">\n",
       "      <th></th>\n",
       "      <th>dividend_yield_ttm</th>\n",
       "      <th>price (GBP)</th>\n",
       "    </tr>\n",
       "  </thead>\n",
       "  <tbody>\n",
       "    <tr>\n",
       "      <th>dividend_yield_ttm</th>\n",
       "      <td>1.000000</td>\n",
       "      <td>-0.004216</td>\n",
       "    </tr>\n",
       "    <tr>\n",
       "      <th>price (GBP)</th>\n",
       "      <td>-0.004216</td>\n",
       "      <td>1.000000</td>\n",
       "    </tr>\n",
       "  </tbody>\n",
       "</table>\n",
       "</div>"
      ],
      "text/plain": [
       "                    dividend_yield_ttm  price (GBP)\n",
       "dividend_yield_ttm            1.000000    -0.004216\n",
       "price (GBP)                  -0.004216     1.000000"
      ]
     },
     "execution_count": 24,
     "metadata": {},
     "output_type": "execute_result"
    }
   ],
   "source": [
    "compani_dividend_data.corr()"
   ]
  },
  {
   "cell_type": "code",
   "execution_count": 25,
   "metadata": {},
   "outputs": [],
   "source": [
    "compani_dividend_data[\"Symbol\"].unique().shape\n",
    "country_data = compani_dividend_data[compani_dividend_data[\"country\"]==\"United States\"]"
   ]
  },
  {
   "cell_type": "code",
   "execution_count": 27,
   "metadata": {},
   "outputs": [
    {
     "data": {
      "text/plain": [
       "<Axes: xlabel='dividend_yield_ttm', ylabel='country'>"
      ]
     },
     "execution_count": 27,
     "metadata": {},
     "output_type": "execute_result"
    },
    {
     "data": {
      "image/png": "[encoded data removed]",
      "text/plain": [
       "<Figure size 800x800 with 1 Axes>"
      ]
     },
     "metadata": {},
     "output_type": "display_data"
    }
   ],
   "source": [
    "plt.figure(figsize=(8,8))\n",
    "sns.barplot( data=country_data, x=\"dividend_yield_ttm\", y=\"country\")"
   ]
  },
  {
   "cell_type": "code",
   "execution_count": null,
   "metadata": {},
   "outputs": [],
   "source": []
  },
  {
   "cell_type": "code",
   "execution_count": null,
   "metadata": {},
   "outputs": [],
   "source": []
  },
  {
   "cell_type": "code",
   "execution_count": null,
   "metadata": {},
   "outputs": [],
   "source": []
  }
 ],
 "metadata": {
  "kernelspec": {
   "display_name": "base",
   "language": "python",
   "name": "python3"
  },
  "language_info": {
   "codemirror_mode": {
    "name": "ipython",
    "version": 3
   },
   "file_extension": ".py",
   "mimetype": "text/x-python",
   "name": "python",
   "nbconvert_exporter": "python",
   "pygments_lexer": "ipython3",
   "version": "3.11.3"
  }
 },
 "nbformat": 4,
 "nbformat_minor": 2
}
